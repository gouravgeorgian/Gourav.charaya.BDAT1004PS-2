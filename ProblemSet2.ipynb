{
 "cells": [
  {
   "cell_type": "markdown",
   "id": "2c6df0a7",
   "metadata": {},
   "source": [
    "### Problem Set 2"
   ]
  },
  {
   "cell_type": "markdown",
   "id": "978937e5",
   "metadata": {},
   "source": [
    "<h3>Question 1. Python Module. Importing into the Interpreter and execute</h3>\n"
   ]
  },
  {
   "cell_type": "code",
   "execution_count": 6,
   "id": "345efb37",
   "metadata": {},
   "outputs": [],
   "source": [
    "a = 0\n",
    "\n",
    "def b():\n",
    "    global a\n",
    "    a = c(a)\n",
    "    \n",
    "def c(a):\n",
    "    return a + 2"
   ]
  },
  {
   "cell_type": "code",
   "execution_count": 7,
   "id": "7e48bd7c",
   "metadata": {},
   "outputs": [],
   "source": [
    "b()"
   ]
  },
  {
   "cell_type": "code",
   "execution_count": 8,
   "id": "d6d99b9f",
   "metadata": {},
   "outputs": [],
   "source": [
    "b()"
   ]
  },
  {
   "cell_type": "code",
   "execution_count": 9,
   "id": "fe35507c",
   "metadata": {},
   "outputs": [],
   "source": [
    "b()"
   ]
  },
  {
   "cell_type": "code",
   "execution_count": 10,
   "id": "21c3e0d5",
   "metadata": {},
   "outputs": [
    {
     "data": {
      "text/plain": [
       "6"
      ]
     },
     "execution_count": 10,
     "metadata": {},
     "output_type": "execute_result"
    }
   ],
   "source": [
    "a"
   ]
  },
  {
   "cell_type": "markdown",
   "id": "a15d4cf1",
   "metadata": {},
   "source": [
    "Explanation: At the very first time, the control will go inside b() taking the global value as a = 0, then will come to c(a) by returning the value as 2.\n",
    "Then again it goes to b() and now the value won't be considered as  a = 0 as we have already defined the value as 2 (global a would remain 2 in this case), it will go to c(a) by returning the value as 4\n",
    "Then similarly for the third iteration, the value will be printed as 6\n"
   ]
  },
  {
   "cell_type": "markdown",
   "id": "5a05e21b",
   "metadata": {},
   "source": [
    "<h3>    Question 2. Function FileLength(). takes the name of file as an input and returns the length of file</h3>"
   ]
  },
  {
   "cell_type": "code",
   "execution_count": 11,
   "id": "80d84c4a",
   "metadata": {},
   "outputs": [
    {
     "name": "stdout",
     "output_type": "stream",
     "text": [
      "239\n",
      "File idterm.py not found.\n"
     ]
    }
   ],
   "source": [
    "def fileLength(Name_Of_File):\n",
    "    try:\n",
    "        openFile = open(Name_Of_File, 'r')\n",
    "        print(len(openFile.read()))\n",
    "\n",
    "    except FileNotFoundError:\n",
    "        print(\"File \" + Name_Of_File + \" not found.\")\n",
    "\n",
    "fileLength(\"midterm.py\")\n",
    "fileLength(\"idterm.py\")"
   ]
  },
  {
   "cell_type": "markdown",
   "id": "47f8d1fc",
   "metadata": {},
   "source": [
    "<h3>Question 3. Write a class Marsupial  that can be shown as the template. </h3>"
   ]
  },
  {
   "cell_type": "code",
   "execution_count": 12,
   "id": "3e99c968",
   "metadata": {},
   "outputs": [],
   "source": [
    "class Marsupial:\n",
    "    def __init__(self):\n",
    "        \"creating empty list\"\n",
    "        self.pouch = []\n",
    "\n",
    "    def put_in_pouch(self, pouch_Value):\n",
    "        self.pouch.append(pouch_Value)\n",
    "\n",
    "    def pouch_contents(self):\n",
    "        print(self.pouch)"
   ]
  },
  {
   "cell_type": "code",
   "execution_count": 13,
   "id": "1c9d6afe",
   "metadata": {},
   "outputs": [
    {
     "name": "stdout",
     "output_type": "stream",
     "text": [
      "['doll', 'firetruck', 'kitten']\n"
     ]
    }
   ],
   "source": [
    "m = Marsupial()\n",
    "m.put_in_pouch(\"doll\")\n",
    "m.put_in_pouch(\"firetruck\")\n",
    "m.put_in_pouch(\"kitten\")\n",
    "m.pouch_contents()"
   ]
  },
  {
   "cell_type": "code",
   "execution_count": 14,
   "id": "403a2937",
   "metadata": {},
   "outputs": [],
   "source": [
    "class Kangaroo(Marsupial):\n",
    "    def __init__(self, horizonatalAxis, verticalAxis):\n",
    "        \"importing all functions from it's parent class Marsupial\"\n",
    "        super().__init__()\n",
    "        self.horizontalDirection = horizonatalAxis\n",
    "        self.verticalDirection = verticalAxis\n",
    "\n",
    "    def jump(self, deltaHorizontal, deltaVertical):\n",
    "        self.horizontalDirection = self.horizontalDirection + deltaHorizontal\n",
    "        self.verticalDirection = self.verticalDirection + deltaVertical\n",
    "\n",
    "    def __str__(self):\n",
    "        print(\"I am a Kangaroo located at coordinates (%d, %d)\" %(self.horizontalDirection, self.verticalDirection))\n",
    "        return \" \""
   ]
  },
  {
   "cell_type": "code",
   "execution_count": 15,
   "id": "e4181459",
   "metadata": {},
   "outputs": [
    {
     "name": "stdout",
     "output_type": "stream",
     "text": [
      "I am a Kangaroo located at coordinates (0, 0)\n",
      "\n",
      "['doll', 'firetruck', 'kitten']\n",
      "I am a Kangaroo located at coordinates (3, 0)\n",
      "\n"
     ]
    }
   ],
   "source": [
    "k = Kangaroo(0,0)\n",
    "print(k)\n",
    "k.put_in_pouch(\"doll\")\n",
    "k.put_in_pouch(\"firetruck\")\n",
    "k.put_in_pouch(\"kitten\")\n",
    "k.pouch_contents()\n",
    "k.jump(1, 0)\n",
    "k.jump(1, 0)\n",
    "k.jump(1, 0)\n",
    "print(k)"
   ]
  },
  {
   "cell_type": "markdown",
   "id": "04105bb8",
   "metadata": {},
   "source": [
    "<h3>Question 4. Write a recursive function collatz for even and odd iterations</h3>"
   ]
  },
  {
   "cell_type": "code",
   "execution_count": 16,
   "id": "c796c733",
   "metadata": {},
   "outputs": [],
   "source": [
    "Valid_Flag = \"TRUE\"\n",
    "def collatz(checkedVariable):\n",
    "    if checkedVariable == 1:\n",
    "        print(1)\n",
    "    else:\n",
    "        global Valid_Flag\n",
    "        if Valid_Flag == \"TRUE\":\n",
    "            Valid_Flag = \"FALSE\"\n",
    "            print(checkedVariable)\n",
    "            collatz(checkedVariable)\n",
    "        else:\n",
    "            if checkedVariable != 1:\n",
    "                if checkedVariable % 2 == 0:\n",
    "                    checkedVariable = checkedVariable / 2\n",
    "                    if checkedVariable != 1:\n",
    "                        print(int(checkedVariable))\n",
    "                    collatz(checkedVariable)\n",
    "                else:\n",
    "                    checkedVariable = 3 * checkedVariable + 1\n",
    "                    print(int(checkedVariable))\n",
    "                    collatz(checkedVariable)\n",
    "\n",
    "\n",
    "\n"
   ]
  },
  {
   "cell_type": "code",
   "execution_count": 17,
   "id": "bc06dba9",
   "metadata": {},
   "outputs": [
    {
     "name": "stdout",
     "output_type": "stream",
     "text": [
      "10\n",
      "5\n",
      "16\n",
      "8\n",
      "4\n",
      "2\n",
      "1\n"
     ]
    }
   ],
   "source": [
    "collatz(10)"
   ]
  },
  {
   "cell_type": "code",
   "execution_count": 18,
   "id": "7df2b1ac",
   "metadata": {},
   "outputs": [
    {
     "name": "stdout",
     "output_type": "stream",
     "text": [
      "1\n"
     ]
    }
   ],
   "source": [
    "collatz(1)"
   ]
  },
  {
   "cell_type": "markdown",
   "id": "89fc274f",
   "metadata": {},
   "source": [
    "<h3>Question 5 Write function binary and returns binary value</h3>"
   ]
  },
  {
   "cell_type": "code",
   "execution_count": 19,
   "id": "ae02d39f",
   "metadata": {},
   "outputs": [],
   "source": [
    "def binary(integer):\n",
    "    binary_As_String = ''\n",
    "    while(integer > 0):\n",
    "        check_digit = integer % 2\n",
    "        binary_As_String += str(check_digit)\n",
    "        integer = integer // 2\n",
    "    binary_As_String = binary_As_String[::-1]\n",
    "    return int(binary_As_String)"
   ]
  },
  {
   "cell_type": "code",
   "execution_count": 20,
   "id": "20357c34",
   "metadata": {},
   "outputs": [
    {
     "data": {
      "text/plain": [
       "1010"
      ]
     },
     "execution_count": 20,
     "metadata": {},
     "output_type": "execute_result"
    }
   ],
   "source": [
    "binary(10)"
   ]
  },
  {
   "cell_type": "code",
   "execution_count": 21,
   "id": "3360dba6",
   "metadata": {},
   "outputs": [
    {
     "data": {
      "text/plain": [
       "1"
      ]
     },
     "execution_count": 21,
     "metadata": {},
     "output_type": "execute_result"
    }
   ],
   "source": [
    "binary(1)"
   ]
  },
  {
   "cell_type": "code",
   "execution_count": 22,
   "id": "59207ac8",
   "metadata": {},
   "outputs": [
    {
     "data": {
      "text/plain": [
       "11"
      ]
     },
     "execution_count": 22,
     "metadata": {},
     "output_type": "execute_result"
    }
   ],
   "source": [
    "binary(3)"
   ]
  },
  {
   "cell_type": "code",
   "execution_count": 23,
   "id": "1e59094c",
   "metadata": {},
   "outputs": [
    {
     "data": {
      "text/plain": [
       "1001"
      ]
     },
     "execution_count": 23,
     "metadata": {},
     "output_type": "execute_result"
    }
   ],
   "source": [
    "binary(9)"
   ]
  },
  {
   "cell_type": "markdown",
   "id": "847fba75",
   "metadata": {},
   "source": [
    "<h3>    Question 6. Implement class Name headingParser that can be used as an HTML document,retrieve and print all the header documents </h3>\n"
   ]
  },
  {
   "cell_type": "code",
   "execution_count": 24,
   "id": "65430e00",
   "metadata": {},
   "outputs": [
    {
     "name": "stdout",
     "output_type": "stream",
     "text": [
      "W3C Mission\n",
      "\n",
      "    \n",
      " Principles\n",
      " \n",
      " \n",
      "\n",
      "\n",
      "\n",
      " \n",
      "\n"
     ]
    }
   ],
   "source": [
    "import re\n",
    "from html.parser import HTMLParser\n",
    "class HeadingParser(HTMLParser):\n",
    "\n",
    "    def handle_starttag(self, tag, attrs):\n",
    "\n",
    "        global majorCounter\n",
    "        matchedRegex = re.match(r'h(\\d)', tag, re.I)\n",
    "        if matchedRegex: majorCounter = int(matchedRegex.group(1))\n",
    "\n",
    "    def handle_endtag(self, tag):\n",
    "        matchedRegex = re.match(r'h(\\d)', tag, re.I)\n",
    "        if matchedRegex: majorCounter = 0\n",
    "\n",
    "    def handle_data(self, data):\n",
    "        if majorCounter > 0:\n",
    "            indented_Block = majorCounter - 1\n",
    "            out = \" \" * indented_Block\n",
    "            print(out + data)\n",
    "\n",
    "infile = open('w3c.html')\n",
    "content = infile.read()\n",
    "infile.close()\n",
    "majorCounter = 0\n",
    "hp = HeadingParser()\n",
    "hp.feed(content)"
   ]
  },
  {
   "cell_type": "markdown",
   "id": "b98dc9b4",
   "metadata": {},
   "source": [
    "<h3>    Question 7. Implement recursive function webDir() that takes input url as a string </h3>\n",
    "\n"
   ]
  },
  {
   "cell_type": "code",
   "execution_count": 25,
   "id": "b0785ec8",
   "metadata": {},
   "outputs": [
    {
     "name": "stdout",
     "output_type": "stream",
     "text": [
      "http://reed.cs.depaul.edu/lperkovic/csc242/test1.html\n"
     ]
    }
   ],
   "source": [
    "import requests\n",
    "from bs4 import BeautifulSoup   \n",
    "\n",
    "def webdir(checkedUrl, depth, indentation_required):\n",
    "    resp = requests.get(checkedUrl)\n",
    "    print(checkedUrl)\n",
    "    if(depth == indentation_required):\n",
    "        return\n",
    "    soup = BeautifulSoup(resp.text, 'html.parser')  \n",
    "    for link_sorted in soup.findAll('a'):\n",
    "        link_sorted = link_sorted.get('href')\n",
    "        if(link_sorted.startswith('https')):\n",
    "            webdir(link_sorted, depth, indentation_required+1)\n",
    "\n",
    "webdir('http://reed.cs.depaul.edu/lperkovic/csc242/test1.html', 2, 0)"
   ]
  },
  {
   "cell_type": "markdown",
   "id": "3c09598f",
   "metadata": {},
   "source": [
    "<h3>Question 8. Write SQL queries for the given table</h3>"
   ]
  },
  {
   "cell_type": "code",
   "execution_count": 27,
   "id": "e463fb0a",
   "metadata": {},
   "outputs": [
    {
     "name": "stdout",
     "output_type": "stream",
     "text": [
      "('Winter',)\n",
      "('Spring',)\n",
      "('Summer',)\n",
      "('Fall',)\n",
      "('Winter',)\n",
      "('Spring',)\n",
      "('Summer',)\n",
      "('Fall',)\n",
      "('Winter',)\n",
      "('Spring',)\n",
      "('Summer',)\n",
      "('Fall',)\n"
     ]
    }
   ],
   "source": [
    "import sqlite3\n",
    "connectionDb = sqlite3.connect('GOURAV_BDAT.db')\n",
    "cursorDB = connectionDb.cursor()\n",
    "cursorDB.execute(\"create table WEATHER_FORCAST_DISPLAY (City text, Country text, Season text, Temperature float, Rainfall float)\")\n",
    "\n",
    "weather_list = [\n",
    "    ('Mumbai','India', 'Winter','24.8', '5.9'),\n",
    "    ('Mumbai','India', 'Spring','28.4', '16.2'),\n",
    "    ('Mumbai','India', 'Summer','27.9', '1549.4'),\n",
    "    ('Mumbai','India', 'Fall','27.6', '346.0'),\n",
    "    ('London','United Kingdom', 'Winter','4.2', '207.7'),\n",
    "    ('London','United Kingdom', 'Spring','8.3', '169.6'),\n",
    "    ('London','United Kingdom', 'Summer','15.7', '157.0'),\n",
    "    ('London','United Kingdom', 'Fall','10.4', '218.5'),\n",
    "    ('Cairo','Egypt', 'Winter','13.6', '16.5'),\n",
    "    ('Cairo','Egypt', 'Spring','20.7', '6.5'),\n",
    "    ('Cairo','Egypt', 'Summer','27.7', '0.1'),\n",
    "    ('Cairo','Egypt', 'Fall','22.2', '4.5')\n",
    "]\n",
    "cursorDB.executemany(\"insert into WEATHER_FORCAST_DISPLAY values (?, ?, ?, ?, ?)\", weather_list)\n",
    "connectionDb.commit()\n",
    "cursorDB.execute(\"select Season from WEATHER_FORCAST_DISPLAY\")\n",
    "for per_Record_Display in cursorDB:\n",
    "    print(per_Record_Display)"
   ]
  },
  {
   "cell_type": "code",
   "execution_count": 28,
   "id": "e13527b8",
   "metadata": {},
   "outputs": [
    {
     "name": "stdout",
     "output_type": "stream",
     "text": [
      "(24.8,)\n",
      "(28.4,)\n",
      "(27.9,)\n",
      "(27.6,)\n",
      "(4.2,)\n",
      "(8.3,)\n",
      "(15.7,)\n",
      "(10.4,)\n",
      "(13.6,)\n",
      "(20.7,)\n",
      "(27.7,)\n",
      "(22.2,)\n"
     ]
    }
   ],
   "source": [
    "cur.execute(\"select Temperature from WEATHER_FORCAST_DISPLAY\")\n",
    "for per_Record_Display in cursorDB:\n",
    "    print(per_Record_Display)"
   ]
  },
  {
   "cell_type": "code",
   "execution_count": 29,
   "id": "f930dafd",
   "metadata": {},
   "outputs": [
    {
     "name": "stdout",
     "output_type": "stream",
     "text": [
      "('Mumbai',)\n",
      "('London',)\n",
      "('Cairo',)\n"
     ]
    }
   ],
   "source": [
    "cur.execute(\"select DISTINCT City from WEATHER_FORCAST_DISPLAY\")\n",
    "for per_Record_Display in cursorDB:\n",
    "    print(per_Record_Display)"
   ]
  },
  {
   "cell_type": "code",
   "execution_count": 30,
   "id": "30270479",
   "metadata": {},
   "outputs": [
    {
     "name": "stdout",
     "output_type": "stream",
     "text": [
      "('Mumbai', 'India', 'Winter', 24.8, 5.9)\n",
      "('Mumbai', 'India', 'Spring', 28.4, 16.2)\n",
      "('Mumbai', 'India', 'Summer', 27.9, 1549.4)\n",
      "('Mumbai', 'India', 'Fall', 27.6, 346.0)\n"
     ]
    }
   ],
   "source": [
    "cur.execute(\"select * from WEATHER_FORCAST_DISPLAY where Country='India'\")\n",
    "for per_Record_Display in cursorDB:\n",
    "    print(per_Record_Display)"
   ]
  },
  {
   "cell_type": "code",
   "execution_count": 31,
   "id": "cab3a227",
   "metadata": {},
   "outputs": [
    {
     "name": "stdout",
     "output_type": "stream",
     "text": [
      "('Mumbai', 'India', 'Fall', 27.6, 346.0)\n",
      "('London', 'United Kingdom', 'Fall', 10.4, 218.5)\n",
      "('Cairo', 'Egypt', 'Fall', 22.2, 4.5)\n"
     ]
    }
   ],
   "source": [
    "cur.execute(\"select * from WEATHER_FORCAST_DISPLAY where Season='Fall'\")\n",
    "for per_Record_Display in cursorDB:\n",
    "    print(per_Record_Display)"
   ]
  },
  {
   "cell_type": "code",
   "execution_count": 32,
   "id": "b8e9fdee",
   "metadata": {},
   "outputs": [
    {
     "name": "stdout",
     "output_type": "stream",
     "text": [
      "('London', 'United Kingdom', 'Winter', 207.7)\n",
      "('London', 'United Kingdom', 'Fall', 218.5)\n",
      "('Mumbai', 'India', 'Fall', 346.0)\n"
     ]
    }
   ],
   "source": [
    "cur.execute(\"SELECT  City, Country, Season, AVG(Rainfall) FROM WEATHER_FORCAST_DISPLAY GROUP BY Rainfall Having AVG(Rainfall) BETWEEN 200 AND 400;\")\n",
    "for per_Record_Display in cursorDB:\n",
    "    print(per_Record_Display)"
   ]
  },
  {
   "cell_type": "code",
   "execution_count": 33,
   "id": "c22913ed",
   "metadata": {},
   "outputs": [
    {
     "name": "stdout",
     "output_type": "stream",
     "text": [
      "('Cairo', 'Egypt', 22.2)\n",
      "('Mumbai', 'India', 27.6)\n"
     ]
    }
   ],
   "source": [
    "cur.execute(\"select City, Country, AVG(Temperature) FROM WEATHER_FORCAST_DISPLAY WHERE Season = 'Fall' group by Temperature HAVING AVG(Temperature) > 20\")\n",
    "for per_Record_Display in cursorDB:\n",
    "    print(per_Record_Display)"
   ]
  },
  {
   "cell_type": "code",
   "execution_count": 34,
   "id": "abe2053e",
   "metadata": {},
   "outputs": [
    {
     "name": "stdout",
     "output_type": "stream",
     "text": [
      "('Cairo', 27.6)\n"
     ]
    }
   ],
   "source": [
    "cur.execute(\"select City, SUM(Rainfall) FROM WEATHER_FORCAST_DISPLAY where City='Cairo'\")\n",
    "for per_Record_Display in cursorDB:\n",
    "    print(per_Record_Display)"
   ]
  },
  {
   "cell_type": "code",
   "execution_count": 35,
   "id": "f280e008",
   "metadata": {},
   "outputs": [
    {
     "name": "stdout",
     "output_type": "stream",
     "text": [
      "('Fall', 569.0)\n",
      "('Spring', 192.29999999999998)\n",
      "('Summer', 1706.5)\n",
      "('Winter', 230.1)\n"
     ]
    }
   ],
   "source": [
    "cur.execute(\"select Season, SUM(Rainfall) FROM WEATHER_FORCAST_DISPLAY group by Season\")\n",
    "for per_Record_Display in cursorDB:\n",
    "    print(per_Record_Display)"
   ]
  },
  {
   "cell_type": "markdown",
   "id": "0e058051",
   "metadata": {},
   "source": [
    "<h3>Question 9. Write list iterations for a given set of string values</h3>"
   ]
  },
  {
   "cell_type": "markdown",
   "id": "8e67f16e",
   "metadata": {},
   "source": [
    "<h3>9(a). All Upper case letters as per list</h3>"
   ]
  },
  {
   "cell_type": "code",
   "execution_count": 39,
   "id": "9805dfc5",
   "metadata": {},
   "outputs": [
    {
     "name": "stdout",
     "output_type": "stream",
     "text": [
      "['THE', 'QUICK', 'BROWN', 'FOX', 'JUMPS', 'OVER', 'THE', 'LAZY', 'DOG']\n"
     ]
    }
   ],
   "source": [
    "words = [\"The\", \"quick\", \"brown\", \"fox\", \"jumps\", \"over\", \"the\", \"lazy\", \"dog\"]\n",
    "\n",
    "wordsCapitalCase = [word.upper() for word in words]\n",
    "print(wordsCapitalCase)"
   ]
  },
  {
   "cell_type": "markdown",
   "id": "097b662f",
   "metadata": {},
   "source": [
    "<h3>9(a). All lower case letters as per list</h3>"
   ]
  },
  {
   "cell_type": "code",
   "execution_count": 40,
   "id": "08d67a23",
   "metadata": {},
   "outputs": [
    {
     "name": "stdout",
     "output_type": "stream",
     "text": [
      "['the', 'quick', 'brown', 'fox', 'jumps', 'over', 'the', 'lazy', 'dog']\n"
     ]
    }
   ],
   "source": [
    "words_lower = [word.lower() for word in words]\n",
    "print(words_lower)"
   ]
  },
  {
   "cell_type": "markdown",
   "id": "800cef8f",
   "metadata": {},
   "source": [
    "<h3>9(a). Word counts as per list</h3>"
   ]
  },
  {
   "cell_type": "code",
   "execution_count": 41,
   "id": "6440ba7b",
   "metadata": {},
   "outputs": [
    {
     "name": "stdout",
     "output_type": "stream",
     "text": [
      "[3, 5, 5, 3, 5, 4, 3, 4, 3]\n"
     ]
    }
   ],
   "source": [
    "sizes = []\n",
    "for counter in words:\n",
    "    sizes.append(len(counter))     \n",
    "print(sizes)"
   ]
  },
  {
   "cell_type": "markdown",
   "id": "60a73dfd",
   "metadata": {},
   "source": [
    "<h3>9(a). All 3 upper case, lower case and count in individual list</h3>"
   ]
  },
  {
   "cell_type": "code",
   "execution_count": 42,
   "id": "23e1511b",
   "metadata": {},
   "outputs": [
    {
     "name": "stdout",
     "output_type": "stream",
     "text": [
      "[['THE', 'the', 3], ['QUICK', 'quick', 5], ['BROWN', 'brown', 5], ['FOX', 'fox', 3], ['JUMPS', 'jumps', 5], ['OVER', 'over', 4], ['THE', 'the', 3], ['LAZY', 'lazy', 4], ['DOG', 'dog', 3]]\n"
     ]
    }
   ],
   "source": [
    "counter = 0\n",
    "singleCombination = []\n",
    "\n",
    "for word in words:\n",
    "    singleCombination.append(wordsCapitalCase[counter])\n",
    "    singleCombination.append(words_lower[counter])\n",
    "    singleCombination.append(sizes[counter])\n",
    "    counter = counter + 1\n",
    "\n",
    "delimiter_per_space = 3\n",
    "final_resultant = [singleCombination[additor:additor+delimiter_per_space] for additor in range(0, len(singleCombination), delimiter_per_space)]\n",
    "print(final_resultant)\n",
    "\n"
   ]
  },
  {
   "cell_type": "markdown",
   "id": "2b592334",
   "metadata": {},
   "source": [
    "<h3>9(a). Words length more than or equal to 4</h3>"
   ]
  },
  {
   "cell_type": "code",
   "execution_count": 43,
   "id": "b3b3a0d6",
   "metadata": {},
   "outputs": [
    {
     "name": "stdout",
     "output_type": "stream",
     "text": [
      "['quick', 'brown', 'jumps', 'over', 'lazy']\n"
     ]
    }
   ],
   "source": [
    "fourList = []\n",
    "for word in words:\n",
    "    counter = 0\n",
    "    if len(word) >= 4:\n",
    "        fourList.append(word)\n",
    "    counter = counter + 1\n",
    "print(fourList)"
   ]
  },
  {
   "cell_type": "code",
   "execution_count": null,
   "id": "1a420cb1",
   "metadata": {},
   "outputs": [],
   "source": []
  }
 ],
 "metadata": {
  "kernelspec": {
   "display_name": "Python 3 (ipykernel)",
   "language": "python",
   "name": "python3"
  },
  "language_info": {
   "codemirror_mode": {
    "name": "ipython",
    "version": 3
   },
   "file_extension": ".py",
   "mimetype": "text/x-python",
   "name": "python",
   "nbconvert_exporter": "python",
   "pygments_lexer": "ipython3",
   "version": "3.9.12"
  }
 },
 "nbformat": 4,
 "nbformat_minor": 5
}
